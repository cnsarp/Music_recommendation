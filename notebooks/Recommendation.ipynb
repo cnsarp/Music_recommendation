{
 "cells": [
  {
   "cell_type": "code",
   "execution_count": 1,
   "metadata": {},
   "outputs": [],
   "source": [
    "import pandas as pd\n",
    "import numpy as np\n",
    "#%pip install scikit-learn\n"
   ]
  },
  {
   "cell_type": "code",
   "execution_count": null,
   "metadata": {},
   "outputs": [],
   "source": [
    "df_mvp_tracks = pd.read_csv(r'C:\\Users\\Cometaca\\Music_recommendation\\new_tracks\\df_mvp_tracks', index_col= [0])\n"
   ]
  },
  {
   "cell_type": "markdown",
   "metadata": {},
   "source": [
    "Use the previous model and scaler for predicting a subset of the dataframe"
   ]
  },
  {
   "cell_type": "code",
   "execution_count": null,
   "metadata": {},
   "outputs": [],
   "source": [
    "import joblib\n",
    "\n",
    "audio_features = ['instrumentalness', 'liveness', 'speechiness', 'danceability',\n",
    "                  'valence', 'loudness', 'tempo', 'acousticness', 'energy', 'mode', 'key']\n",
    "\n",
    "model_rf = joblib.load(r'C:\\Users\\Cometaca\\Music_recommendation\\Models\\model_rf.pkl')\n",
    "scaler = joblib.load(r'C:\\Users\\Cometaca\\Music_recommendation\\Models\\scaler.pkl')\n",
    "\n",
    "df = df_mvp_tracks.sample(5000)\n",
    "X_test = df[audio_features]\n",
    "X_scaled= scaler.fit_transform(X_test)\n",
    "\n",
    "df['predicted_sentiments'] = model_rf.predict(X_scaled)\n"
   ]
  },
  {
   "cell_type": "code",
   "execution_count": 39,
   "metadata": {},
   "outputs": [
    {
     "name": "stdout",
     "output_type": "stream",
     "text": [
      "Recommendations for User 23247402:\n",
      "\n",
      "               Track              Artist                         Album  \\\n",
      "0    I'm Good (Blue)       Kidz Bop Kids                 KIDZ BOP 2023   \n",
      "1  Five Little Ducks  Super Simple Songs  Baby Shark & More Kids Songs   \n",
      "\n",
      "         Similarity Score  \n",
      "0  [[0.9999895841731624]]  \n",
      "1  [[0.9999868876090343]]  \n",
      "Recommendations for User 863131741:\n",
      "\n",
      "                 Track  Artist                Album        Similarity Score\n",
      "0              abcdefu   GAYLE              abcdefu  [[0.9999950599272903]]\n",
      "1  1553470665499594756  frxgxd  1553470665499594756  [[0.9999927334549278]]\n",
      "Recommendations for User 15518784:\n",
      "\n",
      "                    Track           Artist                   Album  \\\n",
      "0           Daddy Says No  Haschak Sisters           Daddy Says No   \n",
      "1  414bigfrank (Backpack)      414bigfrank  414bigfrank (Backpack)   \n",
      "\n",
      "         Similarity Score  \n",
      "0  [[0.9999946615642286]]  \n",
      "1  [[0.9999929018426512]]  \n",
      "Recommendations for User 17945688:\n",
      "\n",
      "           Track           Artist          Album       Similarity Score\n",
      "0  Daddy Says No  Haschak Sisters  Daddy Says No  [[0.999989081175783]]\n",
      "1        Sunroof    Kidz Bop Kids  KIDZ BOP 2023  [[0.999986924013108]]\n",
      "Recommendations for User 23266086:\n",
      "\n",
      "                Track                    Artist  \\\n",
      "0  Paint The Town Red             Kidz Bop Kids   \n",
      "1    5 Little Monkeys  The Little Sunshine Kids   \n",
      "\n",
      "                           Album       Similarity Score  \n",
      "0                  KIDZ BOP 2024  [[0.999993107077451]]  \n",
      "1  100 Fun Songs for Kids Vol. 1  [[0.999993107077451]]  \n"
     ]
    }
   ],
   "source": [
    "from sklearn.metrics.pairwise import cosine_similarity\n",
    "\n",
    "predicted_rows = df[df['predicted_sentiments']==1]\n",
    "\n",
    "\n",
    "def recommend_songs(user_id, predicted_rows, audio_features, n):\n",
    "    # Filter data for the chosen user\n",
    "    user_tracks = df_mvp_tracks[df_mvp_tracks['user_id'] == user_id]\n",
    "    #Get the average of user's aduio features\n",
    "    user_avg_audio_features = user_tracks[audio_features].mean().values.reshape(1, -1)\n",
    "    \n",
    "    #Find cosine similarity between audio features of user's previous data and new predicted subset\n",
    "    recommendations = []\n",
    "    all = []\n",
    "    i= 0\n",
    "    for _, row in predicted_rows.iterrows():\n",
    "        \n",
    "        candidates = row[audio_features].values.reshape(1, -1)\n",
    "        if row['track_id'] not in user_tracks['track_id']:\n",
    "            similarity = cosine_similarity(candidates, user_avg_audio_features)\n",
    "            recommendations = (row['track_name'], row['artists'], row['album_name'], similarity)\n",
    "            if recommendations not in all:\n",
    "                all.append(recommendations)\n",
    "    all = sorted(all, key=lambda x: x[3], reverse=True)[:n]\n",
    "\n",
    "    return all\n",
    "\n",
    "# Choose a random user from the remaining dataset\n",
    "df_rest = df_mvp_tracks[~df_mvp_tracks.index.isin(df.index)]\n",
    "random_users = np.random.choice(df_rest['user_id'], size=5)\n",
    "\n",
    "# Get recommendations for the chosen random user\n",
    "for user in random_users:\n",
    "    recommendations = recommend_songs(user, predicted_rows, audio_features, n=2)\n",
    "    recommendations_df = pd.DataFrame(recommendations, columns=['Track', 'Artist', 'Album', 'Similarity Score'])\n",
    "    print(f\"Recommendations for User {user}:\\n\")\n",
    "    print(recommendations_df)\n",
    "\n"
   ]
  }
 ],
 "metadata": {
  "kernelspec": {
   "display_name": "Python 3",
   "language": "python",
   "name": "python3"
  },
  "language_info": {
   "codemirror_mode": {
    "name": "ipython",
    "version": 3
   },
   "file_extension": ".py",
   "mimetype": "text/x-python",
   "name": "python",
   "nbconvert_exporter": "python",
   "pygments_lexer": "ipython3",
   "version": "3.8.0"
  }
 },
 "nbformat": 4,
 "nbformat_minor": 2
}

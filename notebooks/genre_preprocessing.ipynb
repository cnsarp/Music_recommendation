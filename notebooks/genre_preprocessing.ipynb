{
 "cells": [
  {
   "cell_type": "code",
   "execution_count": 11,
   "metadata": {},
   "outputs": [],
   "source": [
    "import pandas as pd\n",
    "import numpy as np\n",
    "import matplotlib.pyplot as plt\n",
    "import pickle"
   ]
  },
  {
   "cell_type": "code",
   "execution_count": 12,
   "metadata": {},
   "outputs": [],
   "source": [
    "tracks = pd.read_csv(\"spotify_raw.csv\", index_col =0)\n",
    "tracks.dropna(inplace = True)"
   ]
  },
  {
   "cell_type": "code",
   "execution_count": 13,
   "metadata": {},
   "outputs": [
    {
     "name": "stdout",
     "output_type": "stream",
     "text": [
      "['acoustic', 'afrobeat', 'alt-rock', 'alternative', 'ambient', 'anime', 'black-metal', 'bluegrass', 'blues', 'brazil', 'breakbeat', 'british', 'cantopop', 'chicago-house', 'children', 'chill', 'classical', 'club', 'comedy', 'country', 'dance', 'dancehall', 'death-metal', 'deep-house', 'detroit-techno', 'disco', 'disney', 'drum-and-bass', 'dub', 'dubstep', 'edm', 'electro', 'electronic', 'emo', 'folk', 'forro', 'french', 'funk', 'garage', 'german', 'gospel', 'goth', 'grindcore', 'groove', 'grunge', 'guitar', 'happy', 'hard-rock', 'hardcore', 'hardstyle', 'heavy-metal', 'hip-hop', 'honky-tonk', 'house', 'idm', 'indian', 'indie-pop', 'indie', 'industrial', 'iranian', 'j-dance', 'j-idol', 'j-pop', 'j-rock', 'jazz', 'k-pop', 'kids', 'latin', 'latino', 'malay', 'mandopop', 'metal', 'metalcore', 'minimal-techno', 'mpb', 'new-age', 'opera', 'pagode', 'party', 'piano', 'pop-film', 'pop', 'power-pop', 'progressive-house', 'psych-rock', 'punk-rock', 'punk', 'r-n-b', 'reggae', 'reggaeton', 'rock-n-roll', 'rock', 'rockabilly', 'romance', 'sad', 'salsa', 'samba', 'sertanejo', 'show-tunes', 'singer-songwriter', 'ska', 'sleep', 'songwriter', 'soul', 'spanish', 'study', 'swedish', 'synth-pop', 'tango', 'techno', 'trance', 'trip-hop', 'turkish', 'world-music']\n"
     ]
    },
    {
     "data": {
      "text/plain": [
       "114"
      ]
     },
     "execution_count": 13,
     "metadata": {},
     "output_type": "execute_result"
    }
   ],
   "source": [
    "genres = tracks.track_genre.unique().tolist()\n",
    "print(genres)\n",
    "len(genres)"
   ]
  },
  {
   "cell_type": "markdown",
   "metadata": {},
   "source": [
    "Individual genres are put into groups based on similarity. The genres malay, indian, german, world-music, swedish, turkish and french are dropped because it is unclear how that genre is defined. "
   ]
  },
  {
   "cell_type": "code",
   "execution_count": 22,
   "metadata": {},
   "outputs": [],
   "source": [
    "genre_to_group = {\n",
    "    \"hardcore\": \"rock_metal\",\n",
    "    \"industrial\": \"rock_metal\",\n",
    "    \"j-rock\": \"rock_metal\",\n",
    "    \"alt-rock\": \"rock_metal\",\n",
    "    \"garage\": \"rock_metal\",\n",
    "    \"hard-rock\": \"rock_metal\",\n",
    "    \"grunge\": \"rock_metal\",\n",
    "    \"punk\": \"rock_metal\",\n",
    "    \"alternative\": \"rock_metal\",\n",
    "    \"emo\": \"rock_metal\",\n",
    "    \"psych-rock\": \"rock_metal\",\n",
    "    \"rockabilly\": \"rock_metal\",\n",
    "    \"punk-rock\": \"rock_metal\",\n",
    "    \"heavy-metal\": \"rock_metal\",\n",
    "    \"metal\": \"rock_metal\",\n",
    "    \"goth\": \"rock_metal\",\n",
    "    \"rock-n-roll\": \"rock_metal\",\n",
    "    \"rock\": \"rock_metal\",\n",
    "    \"death-metal\": \"rock_metal\",\n",
    "    \"black-metal\": \"rock_metal\",\n",
    "    \"metalcore\": \"rock_metal\",\n",
    "    \"grindcore\": \"rock_metal\",\n",
    "    \n",
    "    \"k-pop\": \"pop\",\n",
    "    \"cantopop\": \"pop\",\n",
    "    \"mandopop\": \"pop\",\n",
    "    \"j-idol\": \"pop\",\n",
    "    \"j-pop\": \"pop\",\n",
    "    \"pop\": \"pop\",\n",
    "    \"power-pop\": \"pop\",\n",
    "    \"indie\": \"pop\",\n",
    "    \"british\": \"pop\",\n",
    "    \"indie-pop\": \"pop\",\n",
    "    \"pop-film\": \"pop\",\n",
    "    \n",
    "    \"salsa\": \"latin\",\n",
    "    \"samba\": \"latin\",\n",
    "    \"pagode\": \"latin\",\n",
    "    \"latin\": \"latin\",\n",
    "    \"spanish\": \"latin\",\n",
    "    \"tango\": \"latin\",\n",
    "    \"forro\": \"latin\",\n",
    "    \"latino\": \"latin\",\n",
    "    \"brazil\": \"latin\",\n",
    "    \"mpb\": \"latin\",\n",
    "    \"sertanejo\": \"latin\",\n",
    "    \n",
    "    \"chicago-house\": \"electro\",\n",
    "    \"progressive-house\": \"electro\",\n",
    "    \"house\": \"electro\",\n",
    "    \"deep-house\": \"electro\",\n",
    "    \"dancehall\": \"electro\",\n",
    "    \"detroit-techno\": \"electro\",\n",
    "    \"techno\": \"electro\",\n",
    "    \"minimal-techno\": \"electro\",\n",
    "    \"edm\": \"electro\",\n",
    "    \"electro\": \"electro\",\n",
    "    \"electronic\": \"electro\",\n",
    "    \"breakbeat\": \"electro\",\n",
    "    \"hardstyle\": \"electro\",\n",
    "    \"trance\": \"electro\",\n",
    "    \"idm\": \"electro\",\n",
    "    \"dub\": \"electro\",\n",
    "    \"dubstep\": \"electro\",\n",
    "    \"drum-and-bass\": \"electro\",\n",
    "    \n",
    "    \"synth-pop\": \"dance\",\n",
    "    \"j-dance\": \"dance\",\n",
    "    \"dance\": \"dance\",\n",
    "    \"party\": \"dance\",\n",
    "    \"club\": \"dance\",\n",
    "    \"disco\": \"dance\",\n",
    "    \n",
    "    \"reggaeton\": \"hiphop_reggae\",\n",
    "    \"trip-hop\": \"hiphop_reggae\",\n",
    "    \"hip-hop\": \"hiphop_reggae\",\n",
    "    \"reggae\": \"hiphop_reggae\",\n",
    "    \"soul\": \"hiphop_reggae\",\n",
    "    \"afrobeat\": \"hiphop_reggae\",\n",
    "    \"r-n-b\": \"hiphop_reggae\",\n",
    "    \n",
    "    \"happy\": \"happy_kids\",\n",
    "    \"show-tunes\": \"happy_kids\",\n",
    "    \"comedy\": \"happy_kids\",\n",
    "    \"kids\": \"happy_kids\",\n",
    "    \"children\": \"happy_kids\",\n",
    "    \"disney\": \"happy_kids\",\n",
    "    \"anime\": \"happy_kids\",\n",
    "    \"gospel\": \"happy_kids\",\n",
    "    \n",
    "    \"new-age\": \"ambient\",\n",
    "    \"sleep\": \"ambient\",\n",
    "    \"study\": \"ambient\",\n",
    "    \"sad\": \"ambient\",\n",
    "    \"ambient\": \"ambient\",\n",
    "    \"chill\": \"ambient\",\n",
    "    \"romance\": \"ambient\",\n",
    "    \"classical\": \"ambient\",\n",
    "    \"opera\": \"ambient\",\n",
    "    \"piano\": \"ambient\",\n",
    "    \n",
    "    \"honky-tonk\": \"acoustic_folk\",\n",
    "    \"country\": \"acoustic_folk\",\n",
    "    \"bluegrass\": \"acoustic_folk\",\n",
    "    \"singer-songwriter\": \"acoustic_folk\",\n",
    "    \"folk\": \"acoustic_folk\",\n",
    "    \"guitar\": \"acoustic_folk\",\n",
    "    \"songwriter\": \"acoustic_folk\",\n",
    "    \"acoustic\": \"acoustic_folk\",\n",
    "    \n",
    "    \"funk\": \"dance\",\n",
    "    #\"ska\": \"rock_metal\",\n",
    "    \"groove\": \"dance\",\n",
    "    \"blues\": \"acoustic_folk\",\n",
    "    \"jazz\": \"ambient\"\n",
    "}\n"
   ]
  },
  {
   "cell_type": "code",
   "execution_count": 15,
   "metadata": {},
   "outputs": [
    {
     "name": "stdout",
     "output_type": "stream",
     "text": [
      "                      track_id                 artists  \\\n",
      "0       5SuOikwiRyPMVoIQDJUgSV             Gen Hoshino   \n",
      "1       4qPNDBW1i3p13qLCt0Ki3A            Ben Woodward   \n",
      "2       1iJBSr7s7jYXzM8EGcbK5b  Ingrid Michaelson;ZAYN   \n",
      "3       6lfxq3CG4xtTiEg7opyCyx            Kina Grannis   \n",
      "4       5vjLSffimiIP26QG5WcN2K        Chord Overstreet   \n",
      "...                        ...                     ...   \n",
      "113995  2C3TZjDRiAzdyViavDJ217           Rainy Lullaby   \n",
      "113996  1hIz5L4IB9hN3WRYPOCGPw           Rainy Lullaby   \n",
      "113997  6x8ZfSoqDjuNa5SVP5QjvX           Cesária Evora   \n",
      "113998  2e6sXL2bYv4bSz6VTdnfLs        Michael W. Smith   \n",
      "113999  2hETkH7cOfqmz3LqZDHZf5           Cesária Evora   \n",
      "\n",
      "                                               album_name  \\\n",
      "0                                                  Comedy   \n",
      "1                                        Ghost (Acoustic)   \n",
      "2                                          To Begin Again   \n",
      "3       Crazy Rich Asians (Original Motion Picture Sou...   \n",
      "4                                                 Hold On   \n",
      "...                                                   ...   \n",
      "113995  #mindfulness - Soft Rain for Mindful Meditatio...   \n",
      "113996  #mindfulness - Soft Rain for Mindful Meditatio...   \n",
      "113997                                            Best Of   \n",
      "113998                                  Change Your World   \n",
      "113999                                     Miss Perfumado   \n",
      "\n",
      "                        track_name  popularity  duration_ms  explicit  \\\n",
      "0                           Comedy          73       230666     False   \n",
      "1                 Ghost - Acoustic          55       149610     False   \n",
      "2                   To Begin Again          57       210826     False   \n",
      "3       Can't Help Falling In Love          71       201933     False   \n",
      "4                          Hold On          82       198853     False   \n",
      "...                            ...         ...          ...       ...   \n",
      "113995         Sleep My Little Boy          21       384999     False   \n",
      "113996            Water Into Light          22       385000     False   \n",
      "113997              Miss Perfumado          22       271466     False   \n",
      "113998                     Friends          41       283893     False   \n",
      "113999                   Barbincor          22       241826     False   \n",
      "\n",
      "        danceability  energy  key  ...  mode  speechiness  acousticness  \\\n",
      "0              0.676  0.4610    1  ...     0       0.1430        0.0322   \n",
      "1              0.420  0.1660    1  ...     1       0.0763        0.9240   \n",
      "2              0.438  0.3590    0  ...     1       0.0557        0.2100   \n",
      "3              0.266  0.0596    0  ...     1       0.0363        0.9050   \n",
      "4              0.618  0.4430    2  ...     1       0.0526        0.4690   \n",
      "...              ...     ...  ...  ...   ...          ...           ...   \n",
      "113995         0.172  0.2350    5  ...     1       0.0422        0.6400   \n",
      "113996         0.174  0.1170    0  ...     0       0.0401        0.9940   \n",
      "113997         0.629  0.3290    0  ...     0       0.0420        0.8670   \n",
      "113998         0.587  0.5060    7  ...     1       0.0297        0.3810   \n",
      "113999         0.526  0.4870    1  ...     0       0.0725        0.6810   \n",
      "\n",
      "        instrumentalness  liveness  valence    tempo  time_signature  \\\n",
      "0               0.000001    0.3580   0.7150   87.917               4   \n",
      "1               0.000006    0.1010   0.2670   77.489               4   \n",
      "2               0.000000    0.1170   0.1200   76.332               4   \n",
      "3               0.000071    0.1320   0.1430  181.740               3   \n",
      "4               0.000000    0.0829   0.1670  119.949               4   \n",
      "...                  ...       ...      ...      ...             ...   \n",
      "113995          0.928000    0.0863   0.0339  125.995               5   \n",
      "113996          0.976000    0.1050   0.0350   85.239               4   \n",
      "113997          0.000000    0.0839   0.7430  132.378               4   \n",
      "113998          0.000000    0.2700   0.4130  135.960               4   \n",
      "113999          0.000000    0.0893   0.7080   79.198               4   \n",
      "\n",
      "        track_genre    genre_group  \n",
      "0          acoustic  acoustic_folk  \n",
      "1          acoustic  acoustic_folk  \n",
      "2          acoustic  acoustic_folk  \n",
      "3          acoustic  acoustic_folk  \n",
      "4          acoustic  acoustic_folk  \n",
      "...             ...            ...  \n",
      "113995  world-music        Unknown  \n",
      "113996  world-music        Unknown  \n",
      "113997  world-music        Unknown  \n",
      "113998  world-music        Unknown  \n",
      "113999  world-music        Unknown  \n",
      "\n",
      "[113999 rows x 21 columns]\n"
     ]
    }
   ],
   "source": [
    "\n",
    "# Add the 'genre_group' column based on the 'track_genre' column\n",
    "tracks['genre_group'] = tracks['track_genre'].map(genre_to_group)\n",
    "\n",
    "# Fill any missing values with 'Unknown'\n",
    "tracks['genre_group'] = tracks['genre_group'].fillna('Unknown')\n",
    "\n",
    "# Display the DataFrame to verify the new column\n",
    "print(tracks)"
   ]
  },
  {
   "cell_type": "code",
   "execution_count": 16,
   "metadata": {},
   "outputs": [
    {
     "name": "stdout",
     "output_type": "stream",
     "text": [
      "<class 'pandas.core.frame.DataFrame'>\n",
      "Int64Index: 113999 entries, 0 to 113999\n",
      "Data columns (total 21 columns):\n",
      " #   Column            Non-Null Count   Dtype  \n",
      "---  ------            --------------   -----  \n",
      " 0   track_id          113999 non-null  object \n",
      " 1   artists           113999 non-null  object \n",
      " 2   album_name        113999 non-null  object \n",
      " 3   track_name        113999 non-null  object \n",
      " 4   popularity        113999 non-null  int64  \n",
      " 5   duration_ms       113999 non-null  int64  \n",
      " 6   explicit          113999 non-null  bool   \n",
      " 7   danceability      113999 non-null  float64\n",
      " 8   energy            113999 non-null  float64\n",
      " 9   key               113999 non-null  int64  \n",
      " 10  loudness          113999 non-null  float64\n",
      " 11  mode              113999 non-null  int64  \n",
      " 12  speechiness       113999 non-null  float64\n",
      " 13  acousticness      113999 non-null  float64\n",
      " 14  instrumentalness  113999 non-null  float64\n",
      " 15  liveness          113999 non-null  float64\n",
      " 16  valence           113999 non-null  float64\n",
      " 17  tempo             113999 non-null  float64\n",
      " 18  time_signature    113999 non-null  int64  \n",
      " 19  track_genre       113999 non-null  object \n",
      " 20  genre_group       113999 non-null  object \n",
      "dtypes: bool(1), float64(9), int64(5), object(6)\n",
      "memory usage: 18.4+ MB\n"
     ]
    }
   ],
   "source": [
    "tracks.info()"
   ]
  },
  {
   "cell_type": "code",
   "execution_count": 17,
   "metadata": {},
   "outputs": [],
   "source": [
    "tracks= tracks.loc[(tracks[\"genre_group\"] != \"Unknown\")]"
   ]
  },
  {
   "cell_type": "code",
   "execution_count": 18,
   "metadata": {},
   "outputs": [],
   "source": [
    "tracks.drop(\"track_genre\", axis=1, inplace=True)"
   ]
  },
  {
   "cell_type": "code",
   "execution_count": 19,
   "metadata": {},
   "outputs": [
    {
     "data": {
      "text/plain": [
       "rock_metal       23000\n",
       "electro          18000\n",
       "ambient          11000\n",
       "latin            11000\n",
       "pop              10999\n",
       "acoustic_folk     9000\n",
       "dance             8000\n",
       "happy_kids        8000\n",
       "hiphop_reggae     7000\n",
       "Name: genre_group, dtype: int64"
      ]
     },
     "execution_count": 19,
     "metadata": {},
     "output_type": "execute_result"
    }
   ],
   "source": [
    "tracks.genre_group.value_counts()"
   ]
  },
  {
   "cell_type": "code",
   "execution_count": 20,
   "metadata": {},
   "outputs": [],
   "source": [
    "pd.DataFrame.to_csv(tracks, \"spotify.csv\")"
   ]
  },
  {
   "cell_type": "code",
   "execution_count": null,
   "metadata": {},
   "outputs": [],
   "source": []
  }
 ],
 "metadata": {
  "kernelspec": {
   "display_name": "Python 3",
   "language": "python",
   "name": "python3"
  },
  "language_info": {
   "codemirror_mode": {
    "name": "ipython",
    "version": 3
   },
   "file_extension": ".py",
   "mimetype": "text/x-python",
   "name": "python",
   "nbconvert_exporter": "python",
   "pygments_lexer": "ipython3",
   "version": "3.8.5"
  }
 },
 "nbformat": 4,
 "nbformat_minor": 2
}
